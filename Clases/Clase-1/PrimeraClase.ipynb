{
 "cells": [
  {
   "cell_type": "markdown",
   "id": "308f20df",
   "metadata": {},
   "source": [
    "## <span style=\"color:blue\">Bienvenidos a la escuelita 2.0</span>"
   ]
  },
  {
   "cell_type": "markdown",
   "id": "d1adffda",
   "metadata": {},
   "source": [
    "![alt text](jupyter.png \"Title\")\n",
    "### ¿Que es Jupyter Notebook ?\n",
    "\n",
    "Jupyter Notebook es una aplicación web open source que nos permite crear y compartir código y documentos. Es un entorno informático interactivo, que permite a los usuarios experimentar con el código y compartirlo.\n",
    "\n",
    "Jupyter es el acrónimo de Julia, Python y R, los tres lenguajes de programación con los que empezó Jupyter, aunque hoy en día soporta una gran cantidad de lenguajes."
   ]
  },
  {
   "cell_type": "code",
   "execution_count": null,
   "id": "6b608471",
   "metadata": {},
   "outputs": [],
   "source": []
  },
  {
   "cell_type": "markdown",
   "id": "4d5d5841",
   "metadata": {},
   "source": [
    "### Ejemplo de graficos en jupyter"
   ]
  },
  {
   "cell_type": "code",
   "execution_count": null,
   "id": "de7a8697",
   "metadata": {},
   "outputs": [],
   "source": [
    "import matplotlib.pyplot as plt\n",
    "from matplotlib import cm\n",
    "from matplotlib.ticker import LinearLocator\n",
    "import numpy as np\n",
    "\n",
    "fig, ax = plt.subplots(subplot_kw={\"projection\": \"3d\"})\n",
    "\n",
    "# Make data.\n",
    "X = np.arange(-5, 5, 0.25)\n",
    "Y = np.arange(-5, 5, 0.25)\n",
    "X, Y = np.meshgrid(X, Y)\n",
    "R = np.sqrt(X**2 + Y**2)\n",
    "Z = np.sin(R)\n",
    "\n",
    "# Plot the surface.\n",
    "surf = ax.plot_surface(X, Y, Z, cmap=cm.coolwarm,\n",
    "                       linewidth=0, antialiased=False)\n",
    "\n",
    "# Customize the z axis.\n",
    "ax.set_zlim(-1.01, 1.01)\n",
    "ax.zaxis.set_major_locator(LinearLocator(10))\n",
    "# A StrMethodFormatter is used automatically\n",
    "ax.zaxis.set_major_formatter('{x:.02f}')\n",
    "\n",
    "# Add a color bar which maps values to colors.\n",
    "fig.colorbar(surf, shrink=0.5, aspect=5)\n",
    "\n",
    "plt.show()"
   ]
  },
  {
   "cell_type": "code",
   "execution_count": null,
   "id": "765a749f",
   "metadata": {},
   "outputs": [],
   "source": []
  }
 ],
 "metadata": {
  "kernelspec": {
   "display_name": "Python 3",
   "language": "python",
   "name": "python3"
  },
  "language_info": {
   "codemirror_mode": {
    "name": "ipython",
    "version": 3
   },
   "file_extension": ".py",
   "mimetype": "text/x-python",
   "name": "python",
   "nbconvert_exporter": "python",
   "pygments_lexer": "ipython3",
   "version": "3.8.8"
  }
 },
 "nbformat": 4,
 "nbformat_minor": 5
}
