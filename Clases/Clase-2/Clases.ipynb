{
 "cells": [
  {
   "cell_type": "markdown",
   "id": "07037026",
   "metadata": {},
   "source": [
    "## Ejemplo Clases en Python\n",
    "\n",
    "Implementar el metodo \"say_hi\" para que devuelva un string. Ej: \"Hola, soy una persona.\""
   ]
  },
  {
   "cell_type": "code",
   "execution_count": 1,
   "id": "8997ad28",
   "metadata": {},
   "outputs": [],
   "source": [
    "class Person:\n",
    "    def __init__(self, name):\n",
    "        pass\n",
    "    \n",
    "    def say_hi(self):\n",
    "        pass"
   ]
  },
  {
   "cell_type": "markdown",
   "id": "35237195",
   "metadata": {},
   "source": [
    "Test\n",
    "\n",
    "- Crear 2 o 3 personas.\n",
    "- Utilizar el metodo implementado."
   ]
  },
  {
   "cell_type": "code",
   "execution_count": null,
   "id": "bbe99202",
   "metadata": {},
   "outputs": [],
   "source": []
  },
  {
   "cell_type": "markdown",
   "id": "2f35c2f5",
   "metadata": {},
   "source": [
    "Crear una clase \"Empleado\" que herede de la clase Persona. Ademas de un nombre el empleado debera tener un salario y un balance de cuenta.\n",
    "Por otro lado se debera sobrescribir el metodo say_hi con algun nuevo string. "
   ]
  },
  {
   "cell_type": "code",
   "execution_count": null,
   "id": "db9aa6dc",
   "metadata": {},
   "outputs": [],
   "source": [
    "class Employee(Person):\n",
    "    def __init__(self, \n",
    "                 name, \n",
    "                 salary, \n",
    "                 title=\"Software Specialist\", \n",
    "                 account_balance=0):\n",
    "        \n",
    "        # this calls the constructor of Person class\n",
    "        super().__init__(name)\n",
    "        \n",
    "        # you still need to implement the rest\n",
    "        pass\n",
    "        \n",
    "    def say_hi(self):\n",
    "        pass"
   ]
  },
  {
   "cell_type": "code",
   "execution_count": null,
   "id": "e01597a6",
   "metadata": {},
   "outputs": [],
   "source": []
  },
  {
   "cell_type": "code",
   "execution_count": null,
   "id": "7fdf6d70",
   "metadata": {},
   "outputs": [],
   "source": []
  }
 ],
 "metadata": {
  "kernelspec": {
   "display_name": "Python 3",
   "language": "python",
   "name": "python3"
  },
  "language_info": {
   "codemirror_mode": {
    "name": "ipython",
    "version": 3
   },
   "file_extension": ".py",
   "mimetype": "text/x-python",
   "name": "python",
   "nbconvert_exporter": "python",
   "pygments_lexer": "ipython3",
   "version": "3.8.8"
  }
 },
 "nbformat": 4,
 "nbformat_minor": 5
}
