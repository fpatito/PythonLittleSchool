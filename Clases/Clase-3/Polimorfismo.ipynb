{
 "cells": [
  {
   "cell_type": "markdown",
   "id": "96a80cf3",
   "metadata": {},
   "source": [
    "## Polimorfismo\n",
    "\n",
    "### ¿Que es?\n",
    "Es el uso de un solo símbolo para representar diferentes tipos.\n",
    "\n",
    "#### Tipos de polimorfismos\n",
    "* Ad hoc polymorphism (Suele usarse en lenguajes como C que tiene la posibilidad de hacer overload de funciones)\n",
    "* Parametric (Suele usarse en lenguajes como C++ y Haskell que tiene generics y type inference)\n",
    "* Row polymorphism (Meme de shrek, Typescript)\n",
    "* Subtyping\n",
    "* Duck typing\n",
    "\n",
    "### Recursos\n",
    "\n",
    "* Articulo (https://levelup.gitconnected.com/hidden-power-of-polymorphism-in-python-c9e2539c1633)\n",
    "* Challenge para practicar https://www.hackerrank.com/\n",
    "* Material de estudio https://ellibrodepython.com/programacion-orientada-a-objetos-python"
   ]
  },
  {
   "cell_type": "code",
   "execution_count": 42,
   "id": "1d7f654f",
   "metadata": {},
   "outputs": [],
   "source": [
    "def use_storage(storage):\n",
    "    storage.add({\"pk\": 1, \"data\": \"text\"})\n",
    "    storage.get(pk=1)"
   ]
  },
  {
   "cell_type": "markdown",
   "id": "ca962781",
   "metadata": {},
   "source": [
    "## Subtyping"
   ]
  },
  {
   "cell_type": "code",
   "execution_count": 1,
   "id": "65ea0e02",
   "metadata": {},
   "outputs": [],
   "source": [
    "class Storage:\n",
    "    def add(self, item: dict):\n",
    "        raise NotImplementedError\n",
    "\n",
    "    def get(self, pk: int):\n",
    "        raise NotImplementedError"
   ]
  },
  {
   "cell_type": "markdown",
   "id": "f7cb8828",
   "metadata": {},
   "source": [
    "Cuando definimos una clase tambien introducimos un nuevo **tipo** en el codigo. Esto nos permite agregar type hinting a las funciones y usar algun type checker como mypy o pyre."
   ]
  },
  {
   "cell_type": "code",
   "execution_count": 7,
   "id": "1443d2e8",
   "metadata": {},
   "outputs": [],
   "source": [
    "def use_storage(storage):\n",
    "    storage.add({\"pk\": 1, \"data\": \"text\"})\n",
    "    storage.get(pk=1)"
   ]
  },
  {
   "cell_type": "code",
   "execution_count": 4,
   "id": "1d37b1f0",
   "metadata": {},
   "outputs": [],
   "source": [
    "class Memory(Storage):\n",
    "    def add(self, item: dict):\n",
    "        print(f\"[memory] put {item}\")\n",
    "\n",
    "    def get(self, pk: int):\n",
    "        print(f\"[memory] get item with {pk=}\")\n",
    "\n",
    "\n",
    "class Persistent(Storage):\n",
    "    def add(self, item: dict):\n",
    "        print(f\"[persistent] put {item}\")\n",
    "\n",
    "    def get(self, pk: int):\n",
    "        print(f\"[persistent] get item with {pk=}\")"
   ]
  },
  {
   "cell_type": "markdown",
   "id": "c4b602ab",
   "metadata": {},
   "source": [
    "Estas 2 clases heredan los metodos y atributos de su clase padre \"Storage\" y vamos a poder usarlas en cualquier lugar que espere al tipo Storage (Por ejemplo la funcion use_storage)."
   ]
  },
  {
   "cell_type": "markdown",
   "id": "cb487093",
   "metadata": {},
   "source": [
    "## Duck typing"
   ]
  },
  {
   "cell_type": "markdown",
   "id": "5e8c7a55",
   "metadata": {},
   "source": [
    "Duck typing es un concepto relacionado al tipado dinamico, el cual plantea que el tipo o clase no es tan importante como los metodos que implementa.\n",
    "\n",
    "El termino viene del dicho:\n",
    "```\n",
    "If it walks like a duck, and it quacks like a duck, then it must be a duck.\n",
    "```"
   ]
  },
  {
   "cell_type": "code",
   "execution_count": 5,
   "id": "08a39190",
   "metadata": {},
   "outputs": [],
   "source": [
    "class Memory:\n",
    "    def add(self, item: dict):\n",
    "        print(f\"put {item} to the storage\")\n",
    "\n",
    "    def get(self, pk: int):\n",
    "        print(f\"get item with {pk=}\")\n",
    "\n",
    "\n",
    "class Persistent:\n",
    "    def add(self, item: dict):\n",
    "        print(f\"put {item} to the storage\")\n",
    "\n",
    "    def get(self, pk: int):\n",
    "        print(f\"get item with {pk=}\")"
   ]
  },
  {
   "cell_type": "markdown",
   "id": "70a727d6",
   "metadata": {},
   "source": [
    "## Duck typing con modulos"
   ]
  },
  {
   "cell_type": "markdown",
   "id": "7d25844d",
   "metadata": {},
   "source": [
    "Supongamos que tenemos este arbol de archivos\n",
    "\n",
    "```\n",
    "storage/\n",
    "  __init__.py\n",
    "  memory.py\n",
    "  persistent.py\n",
    "```"
   ]
  },
  {
   "cell_type": "code",
   "execution_count": null,
   "id": "6eed7c2a",
   "metadata": {},
   "outputs": [],
   "source": [
    "# file storage/__init__.py\n",
    "from . import memory, persistent  # noqa\n",
    "\n",
    "\n",
    "# file storage/memory.py\n",
    "def add(item: dict):\n",
    "    print(f\"[memory] put {item}\")\n",
    "\n",
    "def get(pk: int):\n",
    "    print(f\"[memory] get item with {pk=}\")\n",
    "    \n",
    "\n",
    "# file storage/persistent.py\n",
    "def add(item: dict):\n",
    "    print(f\"[persistent] put {item}\")\n",
    "\n",
    "def get(pk: int):\n",
    "    print(f\"[persistent] get item with {pk=}\")"
   ]
  },
  {
   "cell_type": "code",
   "execution_count": null,
   "id": "60f90214",
   "metadata": {},
   "outputs": [],
   "source": [
    "def use_storage(storage):\n",
    "    storage.add({\"pk\": 1, \"data\": \"text\"})\n",
    "    storage.get(pk=1)"
   ]
  },
  {
   "cell_type": "code",
   "execution_count": null,
   "id": "fab2b54a",
   "metadata": {},
   "outputs": [],
   "source": [
    "import storage.memory\n",
    "import storage.persistent\n",
    "\n",
    "use_storage(storage.memory)\n",
    "# or\n",
    "use_storage(storage.persistent)"
   ]
  }
 ],
 "metadata": {
  "kernelspec": {
   "display_name": "Python 3",
   "language": "python",
   "name": "python3"
  },
  "language_info": {
   "codemirror_mode": {
    "name": "ipython",
    "version": 3
   },
   "file_extension": ".py",
   "mimetype": "text/x-python",
   "name": "python",
   "nbconvert_exporter": "python",
   "pygments_lexer": "ipython3",
   "version": "3.8.8"
  }
 },
 "nbformat": 4,
 "nbformat_minor": 5
}
